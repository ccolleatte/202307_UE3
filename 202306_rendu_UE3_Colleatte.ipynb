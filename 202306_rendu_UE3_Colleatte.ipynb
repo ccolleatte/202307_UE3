{
 "cells": [
  {
   "cell_type": "markdown",
   "id": "ebc6534f",
   "metadata": {},
   "source": [
    "# UE3 - Statistiques - rendu\n",
    "## Cyril Colléatte - DUDA - juin 2023\n",
    "\n",
    "Ce notebook reprend les blocs de code utilisés pour la réalisation du rendu de l'UE3 du DUDA 2023 consacré aux statistiques."
   ]
  },
  {
   "cell_type": "code",
   "execution_count": null,
   "id": "031ef8e0",
   "metadata": {},
   "outputs": [],
   "source": []
  }
 ],
 "metadata": {
  "kernelspec": {
   "display_name": "Python 3 (ipykernel)",
   "language": "python",
   "name": "python3"
  },
  "language_info": {
   "codemirror_mode": {
    "name": "ipython",
    "version": 3
   },
   "file_extension": ".py",
   "mimetype": "text/x-python",
   "name": "python",
   "nbconvert_exporter": "python",
   "pygments_lexer": "ipython3",
   "version": "3.9.13"
  }
 },
 "nbformat": 4,
 "nbformat_minor": 5
}
